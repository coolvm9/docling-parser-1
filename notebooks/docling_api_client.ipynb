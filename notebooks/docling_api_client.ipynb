{
 "cells": [
  {
   "cell_type": "markdown",
   "id": "61d16ddf",
   "metadata": {},
   "source": [
    "# Docling API Client\n",
    "\n",
    "This notebook demonstrates how to call the Docling API service to extract tables from PDF files."
   ]
  },
  {
   "cell_type": "markdown",
   "id": "82cdc427",
   "metadata": {},
   "source": [
    "## Import Required Libraries\n",
    "\n",
    "First, we need to import the necessary libraries for making HTTP requests and handling files."
   ]
  },
  {
   "cell_type": "code",
   "execution_count": null,
   "id": "82168eb4",
   "metadata": {},
   "outputs": [],
   "source": [
    "import requests\n",
    "import os\n",
    "import zipfile\n",
    "import tempfile\n",
    "import shutil\n",
    "from pathlib import Path\n",
    "import pandas as pd"
   ]
  },
  {
   "cell_type": "markdown",
   "id": "47b4efa5",
   "metadata": {},
   "source": [
    "## Set API Endpoint and File Path\n",
    "\n",
    "Define the base URL for the FastAPI service and specify the path to the PDF file to upload."
   ]
  },
  {
   "cell_type": "code",
   "execution_count": null,
   "id": "21e2cfd8",
   "metadata": {},
   "outputs": [],
   "source": [
    "# Configure the API base URL\n",
    "base_url = \"http://127.0.0.1:8000\"  # Adjust this if your API is running on a different host/port\n",
    "api_endpoint = f\"{base_url}/docling/extract-tables-csv/\"\n",
    "\n",
    "# Path to the PDF file to upload\n",
    "# Using a sample from the data directory - adjust this path as needed\n",
    "pdf_path = \"../data/forms/fw4.pdf\"  # Path to a PDF file with tables\n",
    "\n",
    "# Check if the file exists\n",
    "if os.path.exists(pdf_path):\n",
    "    print(f\"Found PDF file: {pdf_path}\")\n",
    "else:\n",
    "    print(f\"WARNING: File {pdf_path} not found. Please update the path to a valid PDF file.\")"
   ]
  },
  {
   "cell_type": "markdown",
   "id": "92a4a7dd",
   "metadata": {},
   "source": [
    "## Define Function to Upload PDF and Download ZIP\n",
    "\n",
    "Let's define a function that uploads a PDF file to the Docling API endpoint and saves the returned ZIP file."
   ]
  },
  {
   "cell_type": "code",
   "execution_count": null,
   "id": "655d5a69",
   "metadata": {},
   "outputs": [],
   "source": [
    "def upload_pdf_and_get_tables(pdf_path, api_url):\n",
    "    \"\"\"\n",
    "    Upload a PDF file to the Docling API and download the resulting ZIP file with CSV tables.\n",
    "    \n",
    "    Args:\n",
    "        pdf_path: Path to the PDF file\n",
    "        api_url: URL of the API endpoint\n",
    "        \n",
    "    Returns:\n",
    "        tuple: (status_code, output_dir) where output_dir contains extracted CSVs\n",
    "    \"\"\"\n",
    "    # Create a temporary directory to store the extracted files\n",
    "    output_dir = tempfile.mkdtemp()\n",
    "    \n",
    "    try:\n",
    "        # Prepare the file for upload\n",
    "        with open(pdf_path, 'rb') as pdf_file:\n",
    "            files = {'file': (os.path.basename(pdf_path), pdf_file, 'application/pdf')}\n",
    "            \n",
    "            print(f\"Uploading {pdf_path} to {api_url}...\")\n",
    "            # Make the POST request to the API\n",
    "            response = requests.post(api_url, files=files)\n",
    "            \n",
    "            if response.status_code == 200:\n",
    "                # Save the ZIP file temporarily\n",
    "                zip_path = os.path.join(output_dir, \"tables.zip\")\n",
    "                with open(zip_path, 'wb') as f:\n",
    "                    f.write(response.content)\n",
    "                \n",
    "                # Extract the ZIP file\n",
    "                with zipfile.ZipFile(zip_path, 'r') as zip_ref:\n",
    "                    zip_ref.extractall(output_dir)\n",
    "                \n",
    "                # Remove the ZIP file after extraction\n",
    "                os.remove(zip_path)\n",
    "                \n",
    "                print(f\"Successfully downloaded and extracted tables to {output_dir}\")\n",
    "                return response.status_code, output_dir\n",
    "            else:\n",
    "                print(f\"Error: API returned status code {response.status_code}\")\n",
    "                print(f\"Response: {response.text}\")\n",
    "                return response.status_code, None\n",
    "                \n",
    "    except Exception as e:\n",
    "        print(f\"Error: {e}\")\n",
    "        return -1, None"
   ]
  },
  {
   "cell_type": "markdown",
   "id": "a9d73447",
   "metadata": {},
   "source": [
    "## Call the API and Print Output\n",
    "\n",
    "Now let's call the API with our PDF file and display the results."
   ]
  },
  {
   "cell_type": "code",
   "execution_count": null,
   "id": "1efc23bd",
   "metadata": {},
   "outputs": [],
   "source": [
    "# Call the function to upload the PDF and get tables\n",
    "status_code, output_dir = upload_pdf_and_get_tables(pdf_path, api_endpoint)\n",
    "\n",
    "if status_code == 200 and output_dir:\n",
    "    # List all CSV files in the output directory\n",
    "    csv_files = [f for f in os.listdir(output_dir) if f.endswith('.csv')]\n",
    "    \n",
    "    print(f\"Found {len(csv_files)} CSV files:\")\n",
    "    for i, csv_file in enumerate(csv_files):\n",
    "        print(f\"{i+1}. {csv_file}\")\n",
    "    \n",
    "    # Display the first table if available\n",
    "    if csv_files:\n",
    "        first_csv = os.path.join(output_dir, csv_files[0])\n",
    "        df = pd.read_csv(first_csv)\n",
    "        print(\"\\nPreview of the first table:\")\n",
    "        display(df.head())\n",
    "else:\n",
    "    print(\"Failed to retrieve tables from the API\")"
   ]
  },
  {
   "cell_type": "markdown",
   "id": "3266d7f2",
   "metadata": {},
   "source": [
    "## Cleanup\n",
    "\n",
    "Finally, let's clean up the temporary files we created."
   ]
  },
  {
   "cell_type": "code",
   "execution_count": null,
   "id": "888e982d",
   "metadata": {},
   "outputs": [],
   "source": [
    "# Clean up the temporary directory\n",
    "if output_dir and os.path.exists(output_dir):\n",
    "    shutil.rmtree(output_dir)\n",
    "    print(f\"Cleaned up temporary directory: {output_dir}\")\n",
    "else:\n",
    "    print(\"No temporary directory to clean up\")"
   ]
  }
 ],
 "metadata": {
  "language_info": {
   "name": "python"
  }
 },
 "nbformat": 4,
 "nbformat_minor": 5
}
